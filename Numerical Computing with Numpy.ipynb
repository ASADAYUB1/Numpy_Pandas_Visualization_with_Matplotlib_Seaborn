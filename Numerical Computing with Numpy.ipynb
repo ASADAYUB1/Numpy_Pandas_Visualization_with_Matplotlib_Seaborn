{
 "cells": [
  {
   "cell_type": "code",
   "execution_count": 1,
   "id": "00b9e3a9",
   "metadata": {},
   "outputs": [],
   "source": [
    "Yield_of_Apples = w1 * temperature + w2 * rainfall + w3 * humidity"
   ]
  },
  {
   "cell_type": "code",
   "execution_count": 2,
   "id": "19f9e479",
   "metadata": {},
   "outputs": [],
   "source": [
    "w1 , w2 , w3 = 0.3 , 0.2 , 0.5"
   ]
  },
  {
   "cell_type": "code",
   "execution_count": 3,
   "id": "60edd48f",
   "metadata": {},
   "outputs": [],
   "source": [
    "lahore_temp = 73\n",
    "lahore_rainfall = 67\n",
    "lahore_humidity = 43\n"
   ]
  },
  {
   "cell_type": "code",
   "execution_count": 4,
   "id": "362d9a50",
   "metadata": {},
   "outputs": [],
   "source": [
    "lahore_yeild_apples = lahore_temp * w1 + lahore_rainfall * w2 + lahore_humidity*w3"
   ]
  },
  {
   "cell_type": "code",
   "execution_count": 5,
   "id": "7e367418",
   "metadata": {},
   "outputs": [
    {
     "name": "stdout",
     "output_type": "stream",
     "text": [
      "The expected yield of apples in lahore regin is 56.8 tons per hectare.\n"
     ]
    }
   ],
   "source": [
    "print('The expected yield of apples in lahore regin is {} tons per hectare.'.format(lahore_yeild_apples))"
   ]
  },
  {
   "cell_type": "code",
   "execution_count": 6,
   "id": "bdaa1ea8",
   "metadata": {},
   "outputs": [],
   "source": [
    "lahore = [73, 67, 43]\n",
    "karachi = [91, 88, 64]\n",
    "faisalabad = [87, 134, 68]\n",
    "peshawar = [102, 78, 99]\n",
    "weights = [w1, w2, w3 ]"
   ]
  },
  {
   "cell_type": "code",
   "execution_count": 7,
   "id": "f8e61a06",
   "metadata": {},
   "outputs": [],
   "source": [
    "def crop_yield(region, weights):\n",
    "    result = 0 \n",
    "    for x, w in zip(region,weights):\n",
    "        result += x*w\n",
    "    return result"
   ]
  },
  {
   "cell_type": "code",
   "execution_count": 8,
   "id": "f8e91d6a",
   "metadata": {},
   "outputs": [
    {
     "data": {
      "text/plain": [
       "56.8"
      ]
     },
     "execution_count": 8,
     "metadata": {},
     "output_type": "execute_result"
    }
   ],
   "source": [
    "crop_yield(lahore, weights)\n"
   ]
  },
  {
   "cell_type": "code",
   "execution_count": 9,
   "id": "93b7a98c",
   "metadata": {},
   "outputs": [],
   "source": [
    "a = crop_yield(lahore, weights)\n",
    "b= crop_yield(karachi, weights)\n",
    "c= crop_yield(faisalabad, weights)\n",
    "d= crop_yield(peshawar, weights)\n"
   ]
  },
  {
   "cell_type": "code",
   "execution_count": 10,
   "id": "def49d04",
   "metadata": {},
   "outputs": [
    {
     "name": "stdout",
     "output_type": "stream",
     "text": [
      "The expected yield of apples in lahore regin is 56.8 tons per hectare.\n",
      "The expected yield of apples in karachi regin is 76.9 tons per hectare.\n",
      "The expected yield of apples in faisalabad regin is 86.9 tons per hectare.\n",
      "The expected yield of apples in peshawar regin is 95.7 tons per hectare.\n"
     ]
    }
   ],
   "source": [
    "print('The expected yield of apples in lahore regin is {} tons per hectare.'.format(a))\n",
    "print('The expected yield of apples in karachi regin is {} tons per hectare.'.format(b))\n",
    "print('The expected yield of apples in faisalabad regin is {} tons per hectare.'.format(c))\n",
    "print('The expected yield of apples in peshawar regin is {} tons per hectare.'.format(d))\n"
   ]
  },
  {
   "cell_type": "markdown",
   "id": "535dbd55",
   "metadata": {},
   "source": [
    "# Numpy Arrays "
   ]
  },
  {
   "cell_type": "code",
   "execution_count": 11,
   "id": "4aa16fd4",
   "metadata": {},
   "outputs": [],
   "source": [
    "import numpy as np "
   ]
  },
  {
   "cell_type": "code",
   "execution_count": 12,
   "id": "5e96bfb3",
   "metadata": {},
   "outputs": [
    {
     "name": "stdout",
     "output_type": "stream",
     "text": [
      "<class 'numpy.ndarray'>\n",
      "<class 'numpy.ndarray'>\n"
     ]
    }
   ],
   "source": [
    "lahore = np.array([73, 67, 43])\n",
    "weights = np.array([w1, w2, w3])\n",
    "print(type(lahore))\n",
    "print(type(weights))"
   ]
  },
  {
   "cell_type": "code",
   "execution_count": 13,
   "id": "1ef2c7c3",
   "metadata": {},
   "outputs": [
    {
     "name": "stdout",
     "output_type": "stream",
     "text": [
      "56.8\n"
     ]
    }
   ],
   "source": [
    "apple_of_yield = np.dot(lahore, weights)\n",
    "print(apple_of_yield)\n"
   ]
  },
  {
   "cell_type": "code",
   "execution_count": 14,
   "id": "5008f30f",
   "metadata": {},
   "outputs": [
    {
     "name": "stdout",
     "output_type": "stream",
     "text": [
      "56.8\n"
     ]
    }
   ],
   "source": [
    "apple_of_yield = np.dot(lahore , weights)\n",
    "print(apple_of_yield)"
   ]
  },
  {
   "cell_type": "markdown",
   "id": "a898ab11",
   "metadata": {},
   "source": [
    "# Multi-Dimensional Numpy Arrays "
   ]
  },
  {
   "cell_type": "code",
   "execution_count": 15,
   "id": "5b34679e",
   "metadata": {},
   "outputs": [],
   "source": [
    "climate_data = np.array([[73, 67, 43], \n",
    "                         [91, 88, 64],\n",
    "                         [87, 134, 68],\n",
    "                         [102, 78, 99]])"
   ]
  },
  {
   "cell_type": "code",
   "execution_count": 16,
   "id": "d3ea03cb",
   "metadata": {},
   "outputs": [
    {
     "data": {
      "text/plain": [
       "(4, 3)"
      ]
     },
     "execution_count": 16,
     "metadata": {},
     "output_type": "execute_result"
    }
   ],
   "source": [
    "climate_data.shape\n",
    "# its a 2-D array "
   ]
  },
  {
   "cell_type": "code",
   "execution_count": 17,
   "id": "5087998c",
   "metadata": {},
   "outputs": [
    {
     "data": {
      "text/plain": [
       "array([ 87, 134,  68])"
      ]
     },
     "execution_count": 17,
     "metadata": {},
     "output_type": "execute_result"
    }
   ],
   "source": [
    "climate_data [2,0:3]"
   ]
  },
  {
   "cell_type": "code",
   "execution_count": 18,
   "id": "14fa89eb",
   "metadata": {},
   "outputs": [
    {
     "data": {
      "text/plain": [
       "dtype('float64')"
      ]
     },
     "execution_count": 18,
     "metadata": {},
     "output_type": "execute_result"
    }
   ],
   "source": [
    "weights.dtype"
   ]
  },
  {
   "cell_type": "code",
   "execution_count": 19,
   "id": "6c0b05ca",
   "metadata": {},
   "outputs": [
    {
     "data": {
      "text/plain": [
       "numpy.ndarray"
      ]
     },
     "execution_count": 19,
     "metadata": {},
     "output_type": "execute_result"
    }
   ],
   "source": [
    "type(weights)"
   ]
  },
  {
   "cell_type": "code",
   "execution_count": 20,
   "id": "fcab81a7",
   "metadata": {},
   "outputs": [
    {
     "data": {
      "text/plain": [
       "(3,)"
      ]
     },
     "execution_count": 20,
     "metadata": {},
     "output_type": "execute_result"
    }
   ],
   "source": [
    "# Its a one-D array \n",
    "weights.shape"
   ]
  },
  {
   "cell_type": "code",
   "execution_count": 21,
   "id": "3a780cd2",
   "metadata": {},
   "outputs": [],
   "source": [
    "# 3-D array \n",
    "data = np.array([[[73, 67, 43], \n",
    "                  [91, 88, 64],\n",
    "                 [91, 88, 64]],\n",
    "                 [[87, 134, 68],\n",
    "                  [87, 134, 68],\n",
    "                [102, 78, 99]]])\n"
   ]
  },
  {
   "cell_type": "code",
   "execution_count": 22,
   "id": "f1f21af9",
   "metadata": {},
   "outputs": [
    {
     "data": {
      "text/plain": [
       "array([[[ 73,  67,  43],\n",
       "        [ 91,  88,  64],\n",
       "        [ 91,  88,  64]],\n",
       "\n",
       "       [[ 87, 134,  68],\n",
       "        [ 87, 134,  68],\n",
       "        [102,  78,  99]]])"
      ]
     },
     "execution_count": 22,
     "metadata": {},
     "output_type": "execute_result"
    }
   ],
   "source": [
    "data"
   ]
  },
  {
   "cell_type": "code",
   "execution_count": 23,
   "id": "527d8c5c",
   "metadata": {},
   "outputs": [
    {
     "data": {
      "text/plain": [
       "numpy.ndarray"
      ]
     },
     "execution_count": 23,
     "metadata": {},
     "output_type": "execute_result"
    }
   ],
   "source": [
    "type(data)"
   ]
  },
  {
   "cell_type": "code",
   "execution_count": 24,
   "id": "17f50367",
   "metadata": {},
   "outputs": [
    {
     "data": {
      "text/plain": [
       "(2, 3, 3)"
      ]
     },
     "execution_count": 24,
     "metadata": {},
     "output_type": "execute_result"
    }
   ],
   "source": [
    "\n",
    "data.shape"
   ]
  },
  {
   "cell_type": "code",
   "execution_count": 25,
   "id": "a6d0a50f",
   "metadata": {},
   "outputs": [
    {
     "data": {
      "text/plain": [
       "dtype('int32')"
      ]
     },
     "execution_count": 25,
     "metadata": {},
     "output_type": "execute_result"
    }
   ],
   "source": [
    "data.dtype"
   ]
  },
  {
   "cell_type": "code",
   "execution_count": 26,
   "id": "c4e45ab5",
   "metadata": {},
   "outputs": [
    {
     "data": {
      "text/plain": [
       "array([56.8, 76.9, 86.9, 95.7])"
      ]
     },
     "execution_count": 26,
     "metadata": {},
     "output_type": "execute_result"
    }
   ],
   "source": [
    "climate_data @ weights"
   ]
  },
  {
   "cell_type": "code",
   "execution_count": 27,
   "id": "b8f8869a",
   "metadata": {},
   "outputs": [
    {
     "data": {
      "text/plain": [
       "array([56.8, 76.9, 86.9, 95.7])"
      ]
     },
     "execution_count": 27,
     "metadata": {},
     "output_type": "execute_result"
    }
   ],
   "source": [
    "np.matmul(climate_data , weights)"
   ]
  },
  {
   "cell_type": "code",
   "execution_count": 28,
   "id": "c06a2576",
   "metadata": {},
   "outputs": [],
   "source": [
    "climate_data_1 = np.genfromtxt('New Text Document11.csv', delimiter=',', skip_header=1)"
   ]
  },
  {
   "cell_type": "code",
   "execution_count": 33,
   "id": "900ec55e",
   "metadata": {},
   "outputs": [
    {
     "data": {
      "text/plain": [
       "(10000, 3)"
      ]
     },
     "execution_count": 33,
     "metadata": {},
     "output_type": "execute_result"
    }
   ],
   "source": [
    "climate_data_1.shape"
   ]
  },
  {
   "cell_type": "code",
   "execution_count": 34,
   "id": "d427c7f1",
   "metadata": {},
   "outputs": [],
   "source": [
    "yeilds = climate_data_1 @ weights "
   ]
  },
  {
   "cell_type": "code",
   "execution_count": 35,
   "id": "30148048",
   "metadata": {},
   "outputs": [
    {
     "data": {
      "text/plain": [
       "array([72.2, 59.7, 65.2, ..., 71.1, 80.7, 73.4])"
      ]
     },
     "execution_count": 35,
     "metadata": {},
     "output_type": "execute_result"
    }
   ],
   "source": [
    "yeilds"
   ]
  },
  {
   "cell_type": "code",
   "execution_count": 36,
   "id": "6a006352",
   "metadata": {},
   "outputs": [
    {
     "data": {
      "text/plain": [
       "(10000,)"
      ]
     },
     "execution_count": 36,
     "metadata": {},
     "output_type": "execute_result"
    }
   ],
   "source": [
    "yeilds.shape"
   ]
  },
  {
   "cell_type": "code",
   "execution_count": 39,
   "id": "4f5b2b93",
   "metadata": {},
   "outputs": [
    {
     "name": "stdout",
     "output_type": "stream",
     "text": [
      "[[25.  76.  99.  72.2]\n",
      " [39.  65.  70.  59.7]\n",
      " [59.  45.  77.  65.2]\n",
      " ...\n",
      " [99.  62.  58.  71.1]\n",
      " [70.  71.  91.  80.7]\n",
      " [92.  39.  76.  73.4]]\n"
     ]
    }
   ],
   "source": [
    "\n",
    "climate_results = np.insert(climate_data_1, 3, yeilds, axis=1)\n",
    "print (climate_results)"
   ]
  },
  {
   "cell_type": "code",
   "execution_count": 40,
   "id": "de30ebf8",
   "metadata": {},
   "outputs": [
    {
     "data": {
      "text/plain": [
       "(10000,)"
      ]
     },
     "execution_count": 40,
     "metadata": {},
     "output_type": "execute_result"
    }
   ],
   "source": [
    "yeilds.shape"
   ]
  },
  {
   "cell_type": "code",
   "execution_count": 44,
   "id": "cdf6fa2d",
   "metadata": {},
   "outputs": [
    {
     "data": {
      "text/plain": [
       "array([72.2, 59.7, 65.2, ..., 71.1, 80.7, 73.4])"
      ]
     },
     "execution_count": 44,
     "metadata": {},
     "output_type": "execute_result"
    }
   ],
   "source": [
    "yeilds"
   ]
  },
  {
   "cell_type": "code",
   "execution_count": 52,
   "id": "55fbc074",
   "metadata": {},
   "outputs": [],
   "source": [
    "# Alternate Way to add a column in array \n",
    "climate_results_1 = np.concatenate((climate_data_1, yeilds.reshape(10000, 1)), axis=1)"
   ]
  },
  {
   "cell_type": "code",
   "execution_count": 53,
   "id": "b6277357",
   "metadata": {},
   "outputs": [
    {
     "data": {
      "text/plain": [
       "array([[25. , 76. , 99. , 72.2],\n",
       "       [39. , 65. , 70. , 59.7],\n",
       "       [59. , 45. , 77. , 65.2],\n",
       "       ...,\n",
       "       [99. , 62. , 58. , 71.1],\n",
       "       [70. , 71. , 91. , 80.7],\n",
       "       [92. , 39. , 76. , 73.4]])"
      ]
     },
     "execution_count": 53,
     "metadata": {},
     "output_type": "execute_result"
    }
   ],
   "source": [
    "climate_results_1"
   ]
  },
  {
   "cell_type": "code",
   "execution_count": 63,
   "id": "7e85b09e",
   "metadata": {},
   "outputs": [],
   "source": [
    "# Save the data in CSV File Back. \n",
    "\n",
    "np.savetxt(\"climate_results_data1.csv\", climate_results_1, fmt='%.2f', delimiter = \",\" , header = 'temperature,rainfall,humadity,yeild_apple',comments='')"
   ]
  },
  {
   "cell_type": "markdown",
   "id": "18072b90",
   "metadata": {},
   "source": [
    "## Arithmetic operations, broadcasting and comparison "
   ]
  },
  {
   "cell_type": "code",
   "execution_count": 64,
   "id": "28e73b30",
   "metadata": {},
   "outputs": [],
   "source": [
    "array_1 = np.array([[1, 2, 3, 4],\n",
    "                   [5, 6, 7, 8],\n",
    "                   [9, 10, 11, 12]])\n"
   ]
  },
  {
   "cell_type": "code",
   "execution_count": 65,
   "id": "ebd2e1d9",
   "metadata": {},
   "outputs": [],
   "source": [
    "array_2 = np.array([[11, 12, 13, 14],\n",
    "                   [15, 16, 17, 18],\n",
    "                   [19, 20, 21, 22]])"
   ]
  },
  {
   "cell_type": "code",
   "execution_count": 66,
   "id": "63a80b11",
   "metadata": {},
   "outputs": [
    {
     "data": {
      "text/plain": [
       "array([[ 3,  4,  5,  6],\n",
       "       [ 7,  8,  9, 10],\n",
       "       [11, 12, 13, 14]])"
      ]
     },
     "execution_count": 66,
     "metadata": {},
     "output_type": "execute_result"
    }
   ],
   "source": [
    "array_1+2"
   ]
  },
  {
   "cell_type": "code",
   "execution_count": 67,
   "id": "26bc6991",
   "metadata": {},
   "outputs": [
    {
     "data": {
      "text/plain": [
       "array([[0.5, 1. , 1.5, 2. ],\n",
       "       [2.5, 3. , 3.5, 4. ],\n",
       "       [4.5, 5. , 5.5, 6. ]])"
      ]
     },
     "execution_count": 67,
     "metadata": {},
     "output_type": "execute_result"
    }
   ],
   "source": [
    "array_1/2"
   ]
  },
  {
   "cell_type": "code",
   "execution_count": 68,
   "id": "8f007186",
   "metadata": {},
   "outputs": [
    {
     "data": {
      "text/plain": [
       "array([[0, 1, 1, 2],\n",
       "       [2, 3, 3, 4],\n",
       "       [4, 5, 5, 6]], dtype=int32)"
      ]
     },
     "execution_count": 68,
     "metadata": {},
     "output_type": "execute_result"
    }
   ],
   "source": [
    "array_1//2"
   ]
  },
  {
   "cell_type": "code",
   "execution_count": 69,
   "id": "d30e3ebb",
   "metadata": {},
   "outputs": [
    {
     "data": {
      "text/plain": [
       "array([[12, 14, 16, 18],\n",
       "       [20, 22, 24, 26],\n",
       "       [28, 30, 32, 34]])"
      ]
     },
     "execution_count": 69,
     "metadata": {},
     "output_type": "execute_result"
    }
   ],
   "source": [
    "array_1 + array_2"
   ]
  },
  {
   "cell_type": "code",
   "execution_count": 71,
   "id": "5041a0f1",
   "metadata": {},
   "outputs": [
    {
     "data": {
      "text/plain": [
       "(3, 4)"
      ]
     },
     "execution_count": 71,
     "metadata": {},
     "output_type": "execute_result"
    }
   ],
   "source": [
    "array_2.shape"
   ]
  },
  {
   "cell_type": "code",
   "execution_count": 72,
   "id": "01b23072",
   "metadata": {},
   "outputs": [],
   "source": [
    "array_3 = np.array([2,3,4,5])"
   ]
  },
  {
   "cell_type": "code",
   "execution_count": 73,
   "id": "30452fb9",
   "metadata": {},
   "outputs": [
    {
     "data": {
      "text/plain": [
       "(4,)"
      ]
     },
     "execution_count": 73,
     "metadata": {},
     "output_type": "execute_result"
    }
   ],
   "source": [
    "array_3.shape"
   ]
  },
  {
   "cell_type": "code",
   "execution_count": 74,
   "id": "645b7272",
   "metadata": {},
   "outputs": [
    {
     "data": {
      "text/plain": [
       "array([[13, 15, 17, 19],\n",
       "       [17, 19, 21, 23],\n",
       "       [21, 23, 25, 27]])"
      ]
     },
     "execution_count": 74,
     "metadata": {},
     "output_type": "execute_result"
    }
   ],
   "source": [
    "array_2 +array_3"
   ]
  },
  {
   "cell_type": "code",
   "execution_count": 75,
   "id": "67d4fd81",
   "metadata": {},
   "outputs": [
    {
     "data": {
      "text/plain": [
       "array([[False, False, False, False],\n",
       "       [False, False, False, False],\n",
       "       [False, False, False, False]])"
      ]
     },
     "execution_count": 75,
     "metadata": {},
     "output_type": "execute_result"
    }
   ],
   "source": [
    "array_1 == array_2"
   ]
  },
  {
   "cell_type": "code",
   "execution_count": 78,
   "id": "157f9c6b",
   "metadata": {},
   "outputs": [
    {
     "data": {
      "text/plain": [
       "array([[ True,  True,  True,  True],\n",
       "       [ True,  True,  True,  True],\n",
       "       [ True,  True,  True,  True]])"
      ]
     },
     "execution_count": 78,
     "metadata": {},
     "output_type": "execute_result"
    }
   ],
   "source": [
    "array_2 != array_1"
   ]
  },
  {
   "cell_type": "markdown",
   "id": "3902889b",
   "metadata": {},
   "source": [
    "Array comparison is frequently used to count the number of equal elements in two arrays using the sum method. Remember that True evaluates to 1 and False evaluates to 0 when booleans are used in arithmetic operations."
   ]
  },
  {
   "cell_type": "code",
   "execution_count": 83,
   "id": "1280528f",
   "metadata": {},
   "outputs": [
    {
     "data": {
      "text/plain": [
       "0"
      ]
     },
     "execution_count": 83,
     "metadata": {},
     "output_type": "execute_result"
    }
   ],
   "source": [
    "(array_1 == array_2).sum()"
   ]
  },
  {
   "cell_type": "raw",
   "id": "add2be4e",
   "metadata": {},
   "source": [
    "Array Indexing "
   ]
  },
  {
   "cell_type": "code",
   "execution_count": 84,
   "id": "f659e869",
   "metadata": {},
   "outputs": [],
   "source": [
    "arr3 = np.array([\n",
    "    [[11, 12, 13, 14], \n",
    "     [13, 14, 15, 19]], \n",
    "    \n",
    "    [[15, 16, 17, 21], \n",
    "     [63, 92, 36, 18]], \n",
    "    \n",
    "    [[98, 32, 81, 23],      \n",
    "     [17, 18, 19.5, 43]]])\n"
   ]
  },
  {
   "cell_type": "code",
   "execution_count": 86,
   "id": "1caef630",
   "metadata": {},
   "outputs": [
    {
     "data": {
      "text/plain": [
       "(3, 2, 4)"
      ]
     },
     "execution_count": 86,
     "metadata": {},
     "output_type": "execute_result"
    }
   ],
   "source": [
    "arr3.shape"
   ]
  },
  {
   "cell_type": "code",
   "execution_count": 89,
   "id": "cd4661ff",
   "metadata": {},
   "outputs": [
    {
     "data": {
      "text/plain": [
       "15.0"
      ]
     },
     "execution_count": 89,
     "metadata": {},
     "output_type": "execute_result"
    }
   ],
   "source": [
    "arr3 [1, 0,0]"
   ]
  },
  {
   "cell_type": "code",
   "execution_count": 90,
   "id": "9b82967f",
   "metadata": {},
   "outputs": [
    {
     "data": {
      "text/plain": [
       "23.0"
      ]
     },
     "execution_count": 90,
     "metadata": {},
     "output_type": "execute_result"
    }
   ],
   "source": [
    "arr3 [2,0,3]"
   ]
  },
  {
   "cell_type": "code",
   "execution_count": 95,
   "id": "52c4a8a5",
   "metadata": {},
   "outputs": [],
   "source": [
    "array_4 = np.array([\n",
    "           [[0, 1, 2, 3, 4,5],\n",
    "           [10, 11, 12, 13, 14, 15]],\n",
    "    \n",
    "           [[20, 21, 22, 23, 24, 25],\n",
    "           [30, 31, 32, 33, 34, 35]],\n",
    "        \n",
    "           [[40, 41, 42, 43, 44, 45],\n",
    "           [50, 51, 52, 53, 54, 55]]])"
   ]
  },
  {
   "cell_type": "code",
   "execution_count": 96,
   "id": "85135536",
   "metadata": {},
   "outputs": [
    {
     "data": {
      "text/plain": [
       "array([[[ 0,  1,  2,  3,  4,  5],\n",
       "        [10, 11, 12, 13, 14, 15]],\n",
       "\n",
       "       [[20, 21, 22, 23, 24, 25],\n",
       "        [30, 31, 32, 33, 34, 35]],\n",
       "\n",
       "       [[40, 41, 42, 43, 44, 45],\n",
       "        [50, 51, 52, 53, 54, 55]]])"
      ]
     },
     "execution_count": 96,
     "metadata": {},
     "output_type": "execute_result"
    }
   ],
   "source": [
    "array_4"
   ]
  },
  {
   "cell_type": "code",
   "execution_count": 98,
   "id": "c5b1e9e4",
   "metadata": {},
   "outputs": [
    {
     "data": {
      "text/plain": [
       "(3, 2, 6)"
      ]
     },
     "execution_count": 98,
     "metadata": {},
     "output_type": "execute_result"
    }
   ],
   "source": [
    "array_4.shape"
   ]
  },
  {
   "cell_type": "code",
   "execution_count": 100,
   "id": "548633a6",
   "metadata": {},
   "outputs": [
    {
     "data": {
      "text/plain": [
       "array([3, 4])"
      ]
     },
     "execution_count": 100,
     "metadata": {},
     "output_type": "execute_result"
    }
   ],
   "source": [
    "array_4 [0, 0, 3:5]"
   ]
  },
  {
   "cell_type": "code",
   "execution_count": 101,
   "id": "24360442",
   "metadata": {},
   "outputs": [
    {
     "data": {
      "text/plain": [
       "array([[ 2, 12],\n",
       "       [22, 32],\n",
       "       [42, 52]])"
      ]
     },
     "execution_count": 101,
     "metadata": {},
     "output_type": "execute_result"
    }
   ],
   "source": [
    "array_4 [0:5, 0:5, 2]"
   ]
  },
  {
   "cell_type": "code",
   "execution_count": 111,
   "id": "5f4fbad3",
   "metadata": {},
   "outputs": [
    {
     "data": {
      "text/plain": [
       "array([[44, 45],\n",
       "       [54, 55]])"
      ]
     },
     "execution_count": 111,
     "metadata": {},
     "output_type": "execute_result"
    }
   ],
   "source": [
    "array_4[2,0:2 ,4 :6]"
   ]
  },
  {
   "cell_type": "code",
   "execution_count": null,
   "id": "52ab6f71",
   "metadata": {},
   "outputs": [],
   "source": []
  }
 ],
 "metadata": {
  "kernelspec": {
   "display_name": "Python 3 (ipykernel)",
   "language": "python",
   "name": "python3"
  },
  "language_info": {
   "codemirror_mode": {
    "name": "ipython",
    "version": 3
   },
   "file_extension": ".py",
   "mimetype": "text/x-python",
   "name": "python",
   "nbconvert_exporter": "python",
   "pygments_lexer": "ipython3",
   "version": "3.11.5"
  }
 },
 "nbformat": 4,
 "nbformat_minor": 5
}
